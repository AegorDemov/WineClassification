{
 "cells": [
  {
   "cell_type": "markdown",
   "metadata": {
    "colab_type": "text",
    "id": "hLj1SxLgEPSH"
   },
   "source": [
    "## Wine classification\n",
    "\n",
    "Resource used:\n",
    "\n",
    "https://www.kaggle.com/piyushgoyal443/red-wine-dataset\n",
    "\n",
    "\n",
    "\n",
    "Curret project will use methods for wine quality estimatio based on input attributes. Method could help wine producers to predict their wine quality and based on this to target suitable price levels. \n",
    "\n",
    "Also suitable user consumer system could be created based on this algorithm to protect customers and help them choose suitable wines. For this purpose however, local wines should be taken as a samples and measured. This could help consumers with no good wine quality expereince to select best wines for the given price levels. \n",
    "\n",
    "Original study used SVM (lenear and Gausian) for this analysis. \n",
    "Additilnal algorithms that will be tested: Random Forest, Linear Regression (as a simples method).  \n",
    "\n",
    "Grid search will be applied and algorithms will be assessed using f1_score and ROC curve.\n"
   ]
  },
  {
   "cell_type": "code",
   "execution_count": 190,
   "metadata": {
    "colab": {},
    "colab_type": "code",
    "id": "FtYFmdyBEZoR"
   },
   "outputs": [],
   "source": [
    "#importing neccessary libraries\n",
    "\n",
    "import numpy as np\n",
    "import pandas as pd\n",
    "\n",
    "\n",
    "#oprimization and scoring\n",
    "from sklearn.model_selection import GridSearchCV, StratifiedKFold, train_test_split\n",
    "\n",
    "#import metrics for model estimation\n",
    "from sklearn.metrics import f1_score, make_scorer, roc_curve\n",
    "from sklearn.preprocessing import StandardScaler\n",
    "\n",
    "#plots (if neccessary)\n",
    "import matplotlib.pyplot as plt\n",
    "from nose.tools import *\n",
    "import seaborn as sns\n",
    "\n",
    "#models\n",
    "from sklearn.linear_model import LogisticRegression\n",
    "from sklearn.preprocessing import MinMaxScaler\n",
    "from sklearn.ensemble import RandomForestClassifier\n",
    "\n",
    "# Suport vector machines \n",
    "from sklearn.svm import SVC\n",
    "#needed to bootstrap. \n",
    "from sklearn.utils import resample\n",
    "#for saving/loading the models. this will give option to precompute the models\n",
    "from sklearn.externals import joblib\n",
    "\n",
    "#will be used to check if models exists.\n",
    "import os.path\n",
    "\n",
    "#initiate the random state generator\n",
    "np.random.seed(24680)\n"
   ]
  },
  {
   "cell_type": "code",
   "execution_count": 232,
   "metadata": {},
   "outputs": [],
   "source": [
    "#variables:\n",
    "LinearRegression_file = \"LR_grid_search_object.pkl\"\n",
    "RandomForest_file = \"RF_grid_search_object.pkl\"\n",
    "SVM_file = \"SVM_grid_search_object.pkl\""
   ]
  },
  {
   "cell_type": "markdown",
   "metadata": {},
   "source": [
    "### Process\n",
    "\t1. load data set\n",
    "\t2. cleaning and knowing data. It is very important to know what would be good for the algorithm, which are the good attributes.\n",
    "\t3. after bootstraping samples size is increased\n",
    "    4. Split the data to attributes and labels\n",
    "    5. Normalization\n",
    "    6. Train/test data split\n",
    "\tTry different algorithms and super parameters tests.\n",
    "    7. LigistiRegression\n",
    "    8. RandomForest\n",
    "    9. SVM\n",
    "\t10. Classification of metrics and assessment of algorithm precision. \n",
    "    11. final model study selection."
   ]
  },
  {
   "cell_type": "markdown",
   "metadata": {
    "colab_type": "text",
    "id": "tLT9e4_sE_kb"
   },
   "source": [
    "### 1. Load the file"
   ]
  },
  {
   "cell_type": "code",
   "execution_count": 233,
   "metadata": {
    "colab": {
     "base_uri": "https://localhost:8080/",
     "height": 595
    },
    "colab_type": "code",
    "id": "iM4JgoT2FGLD",
    "outputId": "f786905d-8c59-461d-b334-86ae59207729"
   },
   "outputs": [
    {
     "data": {
      "text/plain": [
       "(6497, 13)"
      ]
     },
     "execution_count": 233,
     "metadata": {},
     "output_type": "execute_result"
    }
   ],
   "source": [
    "#pandas read.csv \n",
    "data_set = pd.read_csv('winequalityN.csv')\n",
    "#check if data is loaded propoerly and its dimentions. \n",
    "data_set.shape\n"
   ]
  },
  {
   "cell_type": "markdown",
   "metadata": {},
   "source": [
    "### 2. Checking for null samples and cleaning them"
   ]
  },
  {
   "cell_type": "code",
   "execution_count": 234,
   "metadata": {},
   "outputs": [
    {
     "name": "stdout",
     "output_type": "stream",
     "text": [
      "Check if there is null values\n",
      "type                     0\n",
      "fixed acidity           10\n",
      "volatile acidity         8\n",
      "citric acid              3\n",
      "residual sugar           2\n",
      "chlorides                2\n",
      "free sulfur dioxide      0\n",
      "total sulfur dioxide     0\n",
      "density                  0\n",
      "pH                       9\n",
      "sulphates                4\n",
      "alcohol                  0\n",
      "quality                  0\n",
      "dtype: int64\n",
      "\n",
      "Shape: (6497, 13)\n",
      "\n",
      "Clean nulls.\n",
      "type                    0\n",
      "fixed acidity           0\n",
      "volatile acidity        0\n",
      "citric acid             0\n",
      "residual sugar          0\n",
      "chlorides               0\n",
      "free sulfur dioxide     0\n",
      "total sulfur dioxide    0\n",
      "density                 0\n",
      "pH                      0\n",
      "sulphates               0\n",
      "alcohol                 0\n",
      "quality                 0\n",
      "dtype: int64\n",
      "\n",
      "Shape: (6463, 13)\n",
      "\n"
     ]
    }
   ],
   "source": [
    "print('Check if there is null values')\n",
    "print(data_set.isnull().sum())\n",
    "print('\\nShape: '+str(data_set.shape)+'\\n') \n",
    "#dropna removed rows with null values. Asiz = 0 means remove by rows\n",
    "data_set = data_set.dropna(how='any', axis =0)\n",
    "\n",
    "print(\"Clean nulls.\")\n",
    "#isnull check is there is null values. \n",
    "print(data_set.isnull().sum())\n",
    "print('\\nShape: '+str(data_set.shape)+'\\n')"
   ]
  },
  {
   "cell_type": "markdown",
   "metadata": {},
   "source": [
    "Attributes definitions:\n",
    "Description of attributes:\n",
    "\n",
    "1 - fixed acidity: most acids involved with wine or fixed or nonvolatile (do not evaporate readily)\n",
    "2 - volatile acidity: the amount of acetic acid in wine, which at too high of levels can lead to an unpleasant, vinegar taste\n",
    "3 - citric acid: found in small quantities, citric acid can add 'freshness' and flavor to wines\n",
    "4 - residual sugar: the amount of sugar remaining after fermentation stops, it's rare to find wines with less than 1 gram/liter and wines with greater than 45 grams/liter are considered sweet\n",
    "5 - chlorides: the amount of salt in the wine\n",
    "6 - free sulfur dioxide: the free form of SO2 exists in equilibrium between molecular SO2 (as a dissolved gas) and bisulfite ion; it prevents microbial growth and the oxidation of wine\n",
    "7 - total sulfur dioxide: amount of free and bound forms of S02; in low concentrations, SO2 is mostly undetectable in wine, but at free SO2 concentrations over 50 ppm, SO2 becomes evident in the nose and taste of wine\n",
    "8 - density: the density of water is close to that of water depending on the percent alcohol and sugar content\n",
    "9 - pH: describes how acidic or basic a wine is on a scale from 0 (very acidic) to 14 (very basic); most wines are between 3-4 on the pH scale\n",
    "10 - sulphates: a wine additive which can contribute to sulfur dioxide gas (S02) levels, wich acts as an antimicrobial and antioxidant\n",
    "11 - alcohol: the percent alcohol content of the wine\n",
    "\n",
    "Output variable (based on sensory data): 12 - quality (score between 0 and 10)"
   ]
  },
  {
   "cell_type": "code",
   "execution_count": 235,
   "metadata": {},
   "outputs": [
    {
     "data": {
      "text/plain": [
       "<matplotlib.axes._subplots.AxesSubplot at 0x5f68b70>"
      ]
     },
     "execution_count": 235,
     "metadata": {},
     "output_type": "execute_result"
    },
    {
     "data": {
      "image/png": "[encoded data removed]",
      "text/plain": [
       "<Figure size 432x288 with 1 Axes>"
      ]
     },
     "metadata": {
      "needs_background": "light"
     },
     "output_type": "display_data"
    }
   ],
   "source": [
    "#Quality need to be recalculated to have good (1) and rest (0)\n",
    "#study data. It looks like 7 is good value to split the quality in good and rest. Labes have normal distribution.\n",
    "sns.countplot(data_set['quality'])"
   ]
  },
  {
   "cell_type": "markdown",
   "metadata": {},
   "source": [
    "Samples size is small and the algorithm might not be trained properly. As a next step bootstrap will be used."
   ]
  },
  {
   "cell_type": "code",
   "execution_count": 236,
   "metadata": {},
   "outputs": [
    {
     "data": {
      "text/html": [
       "<div>\n",
       "<style scoped>\n",
       "    .dataframe tbody tr th:only-of-type {\n",
       "        vertical-align: middle;\n",
       "    }\n",
       "\n",
       "    .dataframe tbody tr th {\n",
       "        vertical-align: top;\n",
       "    }\n",
       "\n",
       "    .dataframe thead th {\n",
       "        text-align: right;\n",
       "    }\n",
       "</style>\n",
       "<table border=\"1\" class=\"dataframe\">\n",
       "  <thead>\n",
       "    <tr style=\"text-align: right;\">\n",
       "      <th></th>\n",
       "      <th>count</th>\n",
       "      <th>mean</th>\n",
       "      <th>std</th>\n",
       "      <th>min</th>\n",
       "      <th>25%</th>\n",
       "      <th>50%</th>\n",
       "      <th>75%</th>\n",
       "      <th>max</th>\n",
       "    </tr>\n",
       "  </thead>\n",
       "  <tbody>\n",
       "    <tr>\n",
       "      <th>fixed acidity</th>\n",
       "      <td>6463.0</td>\n",
       "      <td>7.217755</td>\n",
       "      <td>1.297913</td>\n",
       "      <td>3.80000</td>\n",
       "      <td>6.40000</td>\n",
       "      <td>7.00000</td>\n",
       "      <td>7.700</td>\n",
       "      <td>15.90000</td>\n",
       "    </tr>\n",
       "    <tr>\n",
       "      <th>volatile acidity</th>\n",
       "      <td>6463.0</td>\n",
       "      <td>0.339589</td>\n",
       "      <td>0.164639</td>\n",
       "      <td>0.08000</td>\n",
       "      <td>0.23000</td>\n",
       "      <td>0.29000</td>\n",
       "      <td>0.400</td>\n",
       "      <td>1.58000</td>\n",
       "    </tr>\n",
       "    <tr>\n",
       "      <th>citric acid</th>\n",
       "      <td>6463.0</td>\n",
       "      <td>0.318758</td>\n",
       "      <td>0.145252</td>\n",
       "      <td>0.00000</td>\n",
       "      <td>0.25000</td>\n",
       "      <td>0.31000</td>\n",
       "      <td>0.390</td>\n",
       "      <td>1.66000</td>\n",
       "    </tr>\n",
       "    <tr>\n",
       "      <th>residual sugar</th>\n",
       "      <td>6463.0</td>\n",
       "      <td>5.443958</td>\n",
       "      <td>4.756852</td>\n",
       "      <td>0.60000</td>\n",
       "      <td>1.80000</td>\n",
       "      <td>3.00000</td>\n",
       "      <td>8.100</td>\n",
       "      <td>65.80000</td>\n",
       "    </tr>\n",
       "    <tr>\n",
       "      <th>chlorides</th>\n",
       "      <td>6463.0</td>\n",
       "      <td>0.056056</td>\n",
       "      <td>0.035076</td>\n",
       "      <td>0.00900</td>\n",
       "      <td>0.03800</td>\n",
       "      <td>0.04700</td>\n",
       "      <td>0.065</td>\n",
       "      <td>0.61100</td>\n",
       "    </tr>\n",
       "    <tr>\n",
       "      <th>free sulfur dioxide</th>\n",
       "      <td>6463.0</td>\n",
       "      <td>30.516865</td>\n",
       "      <td>17.758815</td>\n",
       "      <td>1.00000</td>\n",
       "      <td>17.00000</td>\n",
       "      <td>29.00000</td>\n",
       "      <td>41.000</td>\n",
       "      <td>289.00000</td>\n",
       "    </tr>\n",
       "    <tr>\n",
       "      <th>total sulfur dioxide</th>\n",
       "      <td>6463.0</td>\n",
       "      <td>115.694492</td>\n",
       "      <td>56.526736</td>\n",
       "      <td>6.00000</td>\n",
       "      <td>77.00000</td>\n",
       "      <td>118.00000</td>\n",
       "      <td>156.000</td>\n",
       "      <td>440.00000</td>\n",
       "    </tr>\n",
       "    <tr>\n",
       "      <th>density</th>\n",
       "      <td>6463.0</td>\n",
       "      <td>0.994698</td>\n",
       "      <td>0.003001</td>\n",
       "      <td>0.98711</td>\n",
       "      <td>0.99233</td>\n",
       "      <td>0.99489</td>\n",
       "      <td>0.997</td>\n",
       "      <td>1.03898</td>\n",
       "    </tr>\n",
       "    <tr>\n",
       "      <th>pH</th>\n",
       "      <td>6463.0</td>\n",
       "      <td>3.218332</td>\n",
       "      <td>0.160650</td>\n",
       "      <td>2.72000</td>\n",
       "      <td>3.11000</td>\n",
       "      <td>3.21000</td>\n",
       "      <td>3.320</td>\n",
       "      <td>4.01000</td>\n",
       "    </tr>\n",
       "    <tr>\n",
       "      <th>sulphates</th>\n",
       "      <td>6463.0</td>\n",
       "      <td>0.531150</td>\n",
       "      <td>0.148913</td>\n",
       "      <td>0.22000</td>\n",
       "      <td>0.43000</td>\n",
       "      <td>0.51000</td>\n",
       "      <td>0.600</td>\n",
       "      <td>2.00000</td>\n",
       "    </tr>\n",
       "    <tr>\n",
       "      <th>alcohol</th>\n",
       "      <td>6463.0</td>\n",
       "      <td>10.492825</td>\n",
       "      <td>1.193128</td>\n",
       "      <td>8.00000</td>\n",
       "      <td>9.50000</td>\n",
       "      <td>10.30000</td>\n",
       "      <td>11.300</td>\n",
       "      <td>14.90000</td>\n",
       "    </tr>\n",
       "    <tr>\n",
       "      <th>quality</th>\n",
       "      <td>6463.0</td>\n",
       "      <td>5.818505</td>\n",
       "      <td>0.873286</td>\n",
       "      <td>3.00000</td>\n",
       "      <td>5.00000</td>\n",
       "      <td>6.00000</td>\n",
       "      <td>6.000</td>\n",
       "      <td>9.00000</td>\n",
       "    </tr>\n",
       "  </tbody>\n",
       "</table>\n",
       "</div>"
      ],
      "text/plain": [
       "                       count        mean        std      min       25%  \\\n",
       "fixed acidity         6463.0    7.217755   1.297913  3.80000   6.40000   \n",
       "volatile acidity      6463.0    0.339589   0.164639  0.08000   0.23000   \n",
       "citric acid           6463.0    0.318758   0.145252  0.00000   0.25000   \n",
       "residual sugar        6463.0    5.443958   4.756852  0.60000   1.80000   \n",
       "chlorides             6463.0    0.056056   0.035076  0.00900   0.03800   \n",
       "free sulfur dioxide   6463.0   30.516865  17.758815  1.00000  17.00000   \n",
       "total sulfur dioxide  6463.0  115.694492  56.526736  6.00000  77.00000   \n",
       "density               6463.0    0.994698   0.003001  0.98711   0.99233   \n",
       "pH                    6463.0    3.218332   0.160650  2.72000   3.11000   \n",
       "sulphates             6463.0    0.531150   0.148913  0.22000   0.43000   \n",
       "alcohol               6463.0   10.492825   1.193128  8.00000   9.50000   \n",
       "quality               6463.0    5.818505   0.873286  3.00000   5.00000   \n",
       "\n",
       "                            50%      75%        max  \n",
       "fixed acidity           7.00000    7.700   15.90000  \n",
       "volatile acidity        0.29000    0.400    1.58000  \n",
       "citric acid             0.31000    0.390    1.66000  \n",
       "residual sugar          3.00000    8.100   65.80000  \n",
       "chlorides               0.04700    0.065    0.61100  \n",
       "free sulfur dioxide    29.00000   41.000  289.00000  \n",
       "total sulfur dioxide  118.00000  156.000  440.00000  \n",
       "density                 0.99489    0.997    1.03898  \n",
       "pH                      3.21000    3.320    4.01000  \n",
       "sulphates               0.51000    0.600    2.00000  \n",
       "alcohol                10.30000   11.300   14.90000  \n",
       "quality                 6.00000    6.000    9.00000  "
      ]
     },
     "execution_count": 236,
     "metadata": {},
     "output_type": "execute_result"
    }
   ],
   "source": [
    "data_set.describe().T\n",
    "#some of the features have different ranges and will need to be normalized in order that the classifiers work proporly. "
   ]
  },
  {
   "cell_type": "code",
   "execution_count": 237,
   "metadata": {},
   "outputs": [
    {
     "data": {
      "image/png": "[encoded data removed]",
      "text/plain": [
       "<Figure size 864x504 with 2 Axes>"
      ]
     },
     "metadata": {
      "needs_background": "light"
     },
     "output_type": "display_data"
    }
   ],
   "source": [
    "#print correlation between attributes.\n",
    "plt.figure(figsize=(12, 7))\n",
    "sns.heatmap(data_set.corr(), annot=True)\n",
    "plt.show()"
   ]
  },
  {
   "cell_type": "code",
   "execution_count": 238,
   "metadata": {},
   "outputs": [],
   "source": [
    "#based on the graph above, we could reduce the number of features without loosing too much information as\n",
    "#the features are correlated. We will drop \"free sulfur dioxide\" and keep \"total sulfur dioxide\"\n",
    "data_set = data_set.drop(\"free sulfur dioxide\", axis=1)\n",
    "#recalculate quality values. // will return 1 if the value is higher than 7 and smaller than 9 and 0 if value is smaller than 7\n",
    "#according to the study the Quality is from 0 to 10. quality is recalculated and safed as new column called N_quality (new quality)\n",
    "data_set['N_quality'] = data_set[\"quality\"]//7\n",
    "data_set = data_set.drop('quality', axis=1)"
   ]
  },
  {
   "cell_type": "markdown",
   "metadata": {},
   "source": [
    "\n",
    "### 4. Split the  attributes and lables. Lable colum is N_quality. "
   ]
  },
  {
   "cell_type": "code",
   "execution_count": 240,
   "metadata": {},
   "outputs": [],
   "source": [
    "#used bootstraped data\n",
    "wine_attributes = data_set.drop(\"N_quality\", axis=1)\n",
    "#change type (red/white) to value using get_dummy\n",
    "wine_attributes = pd.get_dummies(wine_attributes)\n",
    "#print(wine_attributes.describe())\n",
    "wine_labels = data_set.N_quality\n"
   ]
  },
  {
   "cell_type": "markdown",
   "metadata": {},
   "source": [
    "### 5. Normalization\n",
    "In order that alrorithm to work accordingly we will check the ranges of the attributes and apply normalization."
   ]
  },
  {
   "cell_type": "code",
   "execution_count": 241,
   "metadata": {},
   "outputs": [],
   "source": [
    "scaler = StandardScaler()\n",
    "#get columns names\n",
    "col_names = list(wine_attributes.columns.values)\n",
    "#transform \n",
    "scaled_features = scaler.fit_transform(wine_attributes)\n",
    "#cobine array and list in dataframe using the original names\n",
    "wine_attributes = pd.DataFrame(scaled_features, columns = col_names)\n"
   ]
  },
  {
   "cell_type": "markdown",
   "metadata": {},
   "source": [
    "### 6. Split the data in train /test sets\n",
    "will be done with predefined function in sklearn. Data is split in 80/20."
   ]
  },
  {
   "cell_type": "code",
   "execution_count": 242,
   "metadata": {},
   "outputs": [
    {
     "data": {
      "text/plain": [
       "(16000, 12)"
      ]
     },
     "execution_count": 242,
     "metadata": {},
     "output_type": "execute_result"
    }
   ],
   "source": [
    "wine_attributes_train, wine_attributes_test, wine_labels_train, wine_labels_test = train_test_split (wine_attributes, wine_labels, train_size = 0.8, stratify = wine_labels)\n",
    "#check that data was split properly\n",
    "wine_attributes_train.shape"
   ]
  },
  {
   "cell_type": "markdown",
   "metadata": {},
   "source": [
    "### 3. As the data size is small (around 6k smaples), we will apply bootstrap to incease the number of samples.\n",
    "\n",
    "Sample size will be increased to 20K by resampling\n"
   ]
  },
  {
   "cell_type": "code",
   "execution_count": 239,
   "metadata": {},
   "outputs": [
    {
     "data": {
      "text/plain": [
       "(20000, 12)"
      ]
     },
     "execution_count": 239,
     "metadata": {},
     "output_type": "execute_result"
    }
   ],
   "source": [
    "#resample is creating n_samepls based on the origianl data set. Data will be scrambled\n",
    "wine_attributes_train = resample(wine_attributes_train, n_samples=20000, replace=True, stratify=data_set, random_state=np.random.randint(0,7000))\n",
    "data_set.shape"
   ]
  },
  {
   "cell_type": "markdown",
   "metadata": {},
   "source": [
    "### Prepare the cross-validation folds"
   ]
  },
  {
   "cell_type": "code",
   "execution_count": 243,
   "metadata": {},
   "outputs": [
    {
     "data": {
      "text/plain": [
       "<generator object _BaseKFold.split at 0x014E4F70>"
      ]
     },
     "execution_count": 243,
     "metadata": {},
     "output_type": "execute_result"
    }
   ],
   "source": [
    "#prepare k_folds for grid search. Same split for the models will be used for fair comarision of the models. \n",
    "#Data will be split in 4 folds\n",
    "k_fold = StratifiedKFold (n_splits = 5)\n",
    "#preparint the split\n",
    "k_fold.split(wine_attributes_train, wine_labels_train)"
   ]
  },
  {
   "cell_type": "markdown",
   "metadata": {},
   "source": [
    "### 7. Train Logistic regression\n",
    "\n",
    "Fine-tune the C and max_iter and fit_intercept parameters.\n",
    "\n",
    "    \"C\": [0.0001, 0.01, 0.1, 1, 10, 100, 10000],\n",
    "    \"max_iter\": [100, 300, 1000],\n",
    "    \"fit_intercept\": [True, False]"
   ]
  },
  {
   "cell_type": "code",
   "execution_count": 244,
   "metadata": {},
   "outputs": [
    {
     "name": "stdout",
     "output_type": "stream",
     "text": [
      "Model exists.\n"
     ]
    }
   ],
   "source": [
    "#define super parameter values to be tested with grid search\n",
    "params = {\n",
    "    \"C\": [0.0001, 0.01, 0.1, 1, 10, 100, 10000],\n",
    "    \"max_iter\": [50, 100, 300, 1000],\n",
    "    \"fit_intercept\": [True, False]\n",
    "}\n",
    "#check if model is already precomputed - will save time during the exam. \n",
    "if(not os.path.isfile(LinearRegression_file)):\n",
    "    print('computing model')\n",
    "    #grid seach with f1 score and cross validation, using Logistic Regretion\n",
    "    grid_search = GridSearchCV(estimator=LogisticRegression(), param_grid=params, scoring=make_scorer(f1_score), cv= k_fold)\n",
    "    #fit the model with train data\n",
    "    grid_search.fit(wine_attributes_train, wine_labels_train)\n",
    "    LR_train_score = grid_search.best_score_\n",
    "    print(grid_search.best_estimator_)\n",
    "    print(grid_search.best_score_)\n",
    "    #https://machinelearningmastery.com/save-load-machine-learning-models-python-scikit-learn/\n",
    "    #save the object to external file with joblib.\n",
    "    joblib.dump(grid_search, LinearRegression_file)\n",
    "    #joblib.load(filename)\n",
    "else:\n",
    "    print(\"Model exists.\")\n"
   ]
  },
  {
   "cell_type": "markdown",
   "metadata": {},
   "source": [
    "### 8. Train Random forest algorithm\n",
    "\n",
    "Test parameters:\n",
    "\n",
    "    \"max_depth\": [5, 10, 20],\n",
    "    \"min_samples_split\": [2, 5],\n",
    "    \"min_samples_leaf\": [1, 2],\n",
    "    \"n_estimators\": [100, 200, 500]"
   ]
  },
  {
   "cell_type": "code",
   "execution_count": 245,
   "metadata": {},
   "outputs": [
    {
     "name": "stdout",
     "output_type": "stream",
     "text": [
      "Model exist.\n"
     ]
    }
   ],
   "source": [
    "#parameter to test with grid search\n",
    "tuned_params = {\n",
    "    \"max_depth\": [5, 10, 20],\n",
    "    \"min_samples_split\": [2, 5],\n",
    "    \"min_samples_leaf\": [1, 2],\n",
    "    \"n_estimators\": [100, 200, 500]\n",
    "}\n",
    "#check if model is already precomputed - will save time during the exam. \n",
    "if(not os.path.isfile(RandomForest_file)):\n",
    "    print(\"Computing model\")\n",
    "    #grid seach with f1 score and cross validation, using Logistic Regretion\n",
    "    grid_search = GridSearchCV (estimator=RandomForestClassifier(), param_grid=tuned_params, scoring=make_scorer(f1_score), cv= k_fold)\n",
    "    #fit/train the model with train data\n",
    "    grid_search.fit(wine_attributes_train , wine_labels_train)\n",
    "    print(grid_search.best_estimator_)\n",
    "    RF_train_score = grid_search.best_score_\n",
    "    print(grid_search.best_score_)\n",
    "    #save the model to file\n",
    "    joblib.dump(grid_search, RandomForest_file)\n",
    "else:\n",
    "    print(\"Model exist.\")\n"
   ]
  },
  {
   "cell_type": "markdown",
   "metadata": {},
   "source": [
    "### 9. Train SVM\n",
    "\n",
    "Test parameters:\n",
    "\n",
    "'C': [10, 15, 20, 50, 200],  \n",
    "'gamma': [0.1, 0.01, 0.001, 0.0001],\n",
    "'kernel': ['rbf']"
   ]
  },
  {
   "cell_type": "code",
   "execution_count": 246,
   "metadata": {},
   "outputs": [
    {
     "name": "stdout",
     "output_type": "stream",
     "text": [
      "Model exists.\n"
     ]
    }
   ],
   "source": [
    "#parameters to test with linear SVM\n",
    "tuned_params = {\n",
    "            'C': [10, 15, 20, 50, 200],  \n",
    "            'gamma': [0.1, 0.01, 0.001, 0.0001], \n",
    "            'kernel': ['rbf']\n",
    "}\n",
    "#check if model is already precomputed - will save time during the exam. \n",
    "if(not os.path.isfile(SVM_file)): \n",
    "    print(\"Compuning model\")\n",
    "    #grid seach with f1 score and cross validation, using Logistic Regretion\n",
    "    grid_search = GridSearchCV (estimator=SVC(tol=1, max_iter=10000, probability=True), param_grid=tuned_params, scoring=make_scorer(f1_score), cv= k_fold)\n",
    "    #fit/train the model with train data\n",
    "    grid_search.fit(wine_attributes_train , wine_labels_train)\n",
    "    #save the model to file\n",
    "    joblib.dump(grid_search, SVM_file)\n",
    "    print(grid_search.best_estimator_)\n",
    "    SVM_train_score = grid_search.best_score_\n",
    "    print(grid_search.best_score_)\n",
    "else:\n",
    "    print(\"Model exists.\")"
   ]
  },
  {
   "cell_type": "markdown",
   "metadata": {},
   "source": [
    "### 10. Estimate the models precision."
   ]
  },
  {
   "cell_type": "markdown",
   "metadata": {
    "code_folding": []
   },
   "source": [
    "#### Logistic regression"
   ]
  },
  {
   "cell_type": "code",
   "execution_count": 247,
   "metadata": {},
   "outputs": [
    {
     "name": "stdout",
     "output_type": "stream",
     "text": [
      "Linear Regression F1 score: 0.5178979436405179\n",
      "Linear Regression train score 0.5035078293402887\n",
      "LogisticRegression(C=0.01, class_weight=None, dual=False, fit_intercept=False,\n",
      "                   intercept_scaling=1, l1_ratio=None, max_iter=50,\n",
      "                   multi_class='warn', n_jobs=None, penalty='l2',\n",
      "                   random_state=None, solver='warn', tol=0.0001, verbose=0,\n",
      "                   warm_start=False)\n"
     ]
    }
   ],
   "source": [
    "#load LR model from file and make F1 score\n",
    "LR_loaded_model = joblib.load(LinearRegression_file)\n",
    "#predict based on test data set\n",
    "prediction_LR = LR_loaded_model.predict(wine_attributes_test)\n",
    "LR_wine_score = f1_score(wine_labels_test, prediction_LR)\n",
    "\n",
    "print(\"Linear Regression F1 score:\", LR_wine_score)\n",
    "print(\"Linear Regression train score\", LR_loaded_model.best_score_)\n",
    "print(LR_loaded_model.best_estimator_)"
   ]
  },
  {
   "cell_type": "code",
   "execution_count": 248,
   "metadata": {},
   "outputs": [
    {
     "data": {
      "image/png": "[encoded data removed]",
      "text/plain": [
       "<Figure size 432x288 with 1 Axes>"
      ]
     },
     "metadata": {
      "needs_background": "light"
     },
     "output_type": "display_data"
    }
   ],
   "source": [
    "# predict probabilities\n",
    "probs = LR_loaded_model.predict_proba(wine_attributes_test)\n",
    "# keep probabilities for the positive outcome only\n",
    "probs = probs[:, 1]\n",
    "# calculate roc curve\n",
    "fpr, tpr, thresholds = roc_curve(wine_labels_test, probs)\n",
    "# plot no skill\n",
    "plt.plot([0, 1], [0, 1], linestyle='--')\n",
    "# plot the roc curve for the model\n",
    "plt.plot(fpr, tpr)\n",
    "\n",
    "# Add title and axis names\n",
    "plt.title('LR ROC')\n",
    "plt.xlabel('False Positive')\n",
    "plt.ylabel('True Positive')\n",
    "# show the plot\n",
    "plt.show()"
   ]
  },
  {
   "cell_type": "markdown",
   "metadata": {},
   "source": [
    "####  Random Forest"
   ]
  },
  {
   "cell_type": "code",
   "execution_count": 250,
   "metadata": {},
   "outputs": [
    {
     "name": "stdout",
     "output_type": "stream",
     "text": [
      "Random forest test F1 score: 0.9968294229549778\n",
      "Random forest train score 0.9600085393855994\n",
      "RandomForestClassifier(bootstrap=True, class_weight=None, criterion='gini',\n",
      "                       max_depth=20, max_features='auto', max_leaf_nodes=None,\n",
      "                       min_impurity_decrease=0.0, min_impurity_split=None,\n",
      "                       min_samples_leaf=1, min_samples_split=2,\n",
      "                       min_weight_fraction_leaf=0.0, n_estimators=200,\n",
      "                       n_jobs=None, oob_score=False, random_state=None,\n",
      "                       verbose=0, warm_start=False)\n"
     ]
    }
   ],
   "source": [
    "#load LR model from file and make F1 score\n",
    "RF_loaded_model = joblib.load(RandomForest_file)\n",
    "#predict based on test data set\n",
    "prediction_RF = RF_loaded_model.predict(wine_attributes_test)\n",
    "RF_wine_score = f1_score(wine_labels_test, prediction_RF)\n",
    "print(\"Random forest test F1 score:\", RF_wine_score)\n",
    "print(\"Random forest train score\", RF_loaded_model.best_score_ )\n",
    "print(RF_loaded_model.best_estimator_)"
   ]
  },
  {
   "cell_type": "code",
   "execution_count": 251,
   "metadata": {},
   "outputs": [
    {
     "data": {
      "image/png": "[encoded data removed]",
      "text/plain": [
       "<Figure size 432x288 with 1 Axes>"
      ]
     },
     "metadata": {
      "needs_background": "light"
     },
     "output_type": "display_data"
    }
   ],
   "source": [
    "# predict probabilities\n",
    "probs = RF_loaded_model.predict_proba(wine_attributes_test)\n",
    "# keep probabilities for the positive outcome only\n",
    "probs = probs[:, 1]\n",
    "# calculate roc curve\n",
    "fpr, tpr, thresholds = roc_curve(wine_labels_test, probs)\n",
    "# plot no skill\n",
    "plt.plot([0, 1], [0, 1], linestyle='--')\n",
    "# plot the roc curve for the model\n",
    "plt.plot(fpr, tpr)\n",
    "# Add title and axis names\n",
    "plt.title('RF ROC')\n",
    "plt.xlabel('False Positive')\n",
    "plt.ylabel('True Positive')\n",
    "# show the plot\n",
    "plt.show()"
   ]
  },
  {
   "cell_type": "markdown",
   "metadata": {},
   "source": [
    "#### SVM"
   ]
  },
  {
   "cell_type": "code",
   "execution_count": 252,
   "metadata": {},
   "outputs": [
    {
     "name": "stdout",
     "output_type": "stream",
     "text": [
      "SVM test F1 score: 0.7467330429371499\n",
      "SVM training score: 0.7033427481344049\n",
      "SVC(C=50, cache_size=200, class_weight=None, coef0=0.0,\n",
      "    decision_function_shape='ovr', degree=3, gamma=0.1, kernel='rbf',\n",
      "    max_iter=10000, probability=True, random_state=None, shrinking=True, tol=1,\n",
      "    verbose=False)\n"
     ]
    }
   ],
   "source": [
    "#load SVM model from file and make F1 score\n",
    "SVM_loaded_model = joblib.load(SVM_file)\n",
    "#predict based on test data set\n",
    "prediction_SVM = SVM_loaded_model.predict(wine_attributes_test)\n",
    "SVM_wine_score = f1_score(wine_labels_test, prediction_SVM)\n",
    "print(\"SVM test F1 score:\", SVM_wine_score)\n",
    "print(\"SVM training score:\", SVM_loaded_model.best_score_)\n",
    "print(SVM_loaded_model.best_estimator_)"
   ]
  },
  {
   "cell_type": "code",
   "execution_count": 211,
   "metadata": {},
   "outputs": [
    {
     "data": {
      "image/png": "[encoded data removed]",
      "text/plain": [
       "<Figure size 432x288 with 1 Axes>"
      ]
     },
     "metadata": {
      "needs_background": "light"
     },
     "output_type": "display_data"
    }
   ],
   "source": [
    "# predict probabilities\n",
    "probs = SVM_loaded_model.predict_proba(wine_attributes_test)\n",
    "# keep probabilities for the positive outcome only\n",
    "probs = probs[:, 1]\n",
    "# calculate roc curve\n",
    "fpr, tpr, thresholds = roc_curve(wine_labels_test, probs)\n",
    "# plot no skill\n",
    "plt.plot([0, 1], [0, 1], linestyle='--')\n",
    "# plot the roc curve for the model\n",
    "plt.plot(fpr, tpr)\n",
    "# Add title and axis names\n",
    "plt.title('SVM ROC')\n",
    "plt.xlabel('False Positive')\n",
    "plt.ylabel('True Positive')\n",
    "# show the plot\n",
    "plt.show()"
   ]
  },
  {
   "cell_type": "markdown",
   "metadata": {},
   "source": [
    "### 11. Conclusion\n",
    "Based on the results of F1 score and ROC plots, random forest algorithm gives the best result but the model seems to overfit. Project is not perfect as the data set has only 6K samples and even search grid and bootstrap seems not enough.  \n",
    "Prject was tested without boostrap - LR F1 score 0.50 vs 0.51, RF F1 score 0.63 vs 0.996, SVM F1 score 0.74 vs 0.74. Magrnal or no improvement of Linear Regression and SVM and good improvement in Random forest. \n",
    "Different parameters were tested (this is maybe the 10th set that was tried) for Random forest but once the data was increased with boostrap the algorithm is giving similar high results."
   ]
  },
  {
   "cell_type": "code",
   "execution_count": null,
   "metadata": {},
   "outputs": [],
   "source": []
  }
 ],
 "metadata": {
  "colab": {
   "collapsed_sections": [],
   "name": "Wines.ipynb",
   "provenance": []
  },
  "kernelspec": {
   "display_name": "Python 3",
   "language": "python",
   "name": "python3"
  },
  "language_info": {
   "codemirror_mode": {
    "name": "ipython",
    "version": 3
   },
   "file_extension": ".py",
   "mimetype": "text/x-python",
   "name": "python",
   "nbconvert_exporter": "python",
   "pygments_lexer": "ipython3",
   "version": "3.6.8"
  }
 },
 "nbformat": 4,
 "nbformat_minor": 1
}
